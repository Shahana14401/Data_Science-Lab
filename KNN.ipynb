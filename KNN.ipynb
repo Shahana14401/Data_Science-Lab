{
  "nbformat": 4,
  "nbformat_minor": 0,
  "metadata": {
    "colab": {
      "provenance": [],
      "authorship_tag": "ABX9TyMwSSPoNLkCS+jQPyKOL4UD",
      "include_colab_link": true
    },
    "kernelspec": {
      "name": "python3",
      "display_name": "Python 3"
    },
    "language_info": {
      "name": "python"
    }
  },
  "cells": [
    {
      "cell_type": "markdown",
      "metadata": {
        "id": "view-in-github",
        "colab_type": "text"
      },
      "source": [
        "<a href=\"https://colab.research.google.com/github/Shahana14401/Data_Science-Lab/blob/main/KNN.ipynb\" target=\"_parent\"><img src=\"https://colab.research.google.com/assets/colab-badge.svg\" alt=\"Open In Colab\"/></a>"
      ]
    },
    {
      "cell_type": "code",
      "execution_count": null,
      "metadata": {
        "id": "tXphegh4cGmP"
      },
      "outputs": [],
      "source": [
        "import pandas as pd\n",
        "import numpy as np\n",
        "from sklearn.model_selection import train_test_split\n",
        "from sklearn.preprocessing import StandardScaler\n",
        "from sklearn.neighbors import KNeighborsClassifier\n",
        "from sklearn.metrics import confusion_matrix\n",
        "from sklearn.metrics import f1_score\n",
        "from sklearn.metrics import accuracy_score\n",
        "\n",
        "dataset = pd.read_csv('diabetes.csv')\n",
        "print (len(dataset))\n",
        "print (dataset.head())\n",
        "\n",
        "#data Preprocessing\n",
        "zero = ['Glucose','BloodPressure','SkinThickness','BMI','Insulin']\n",
        "for column in zero:\n",
        "    dataset[column] = dataset[column].replace(0,np.NaN)\n",
        "    mean = int(dataset[column].mean(skipna=True))\n",
        "    dataset[column] = dataset[column].replace(np.NaN,mean)\n",
        "\n",
        "#split dataset\n",
        "x = dataset.iloc[: , 0:8]\n",
        "y = dataset.iloc[:, 8 ]\n",
        "X_train , X_test ,y_train , y_test= train_test_split(x,y,random_state=0,test_size=0.2)\n",
        "\n",
        "#Feature scaling\n",
        "sc_X = StandardScaler()\n",
        "X_train = sc_X.fit_transform(X_train)\n",
        "X_test = sc_X.transform(X_test)\n",
        "\n",
        "#Define the model :Init K-NN\n",
        "classifier = KNeighborsClassifier(p=2 ,n_neighbors = 11, metric = 'euclidean')\n",
        "classifier.fit(X_train,y_train)\n",
        "\n",
        "#Predict the test result\n",
        "y_predict = classifier.predict(X_test)\n",
        "print(y_predict)\n",
        "\n",
        "#Evaluate the model\n",
        "cm = confusion_matrix(y_test , y_predict)\n",
        "print(cm)\n",
        "print(f1_score(y_test,y_predict))\n",
        "print(accuracy_score(y_test,y_predict))"
      ]
    }
  ]
}